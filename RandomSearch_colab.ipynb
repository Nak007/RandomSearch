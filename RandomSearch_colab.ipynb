{
 "cells": [
  {
   "cell_type": "markdown",
   "metadata": {
    "id": "lX0UM9qPPTVa"
   },
   "source": [
    "### Google.colab\n",
    "Only execute this cell when use on google colab platform (colab)."
   ]
  },
  {
   "cell_type": "markdown",
   "metadata": {
    "id": "uecRy_3DPTVc"
   },
   "source": [
    "<table class=\"tfo-notebook-buttons\" align=\"left\">\n",
    "  <td>\n",
    "    <a target=\"_blank\" href=\"https://github.com/Nak007/RandomSearch\">\n",
    "    <img src=\"https://www.tensorflow.org/images/GitHub-Mark-32px.png\" />View source on GitHub</a>\n",
    "  </td>\n",
    "</table>"
   ]
  },
  {
   "cell_type": "markdown",
   "metadata": {
    "id": "WctsMiqLPTVd"
   },
   "source": [
    "Mount with google drive."
   ]
  },
  {
   "cell_type": "code",
   "execution_count": null,
   "metadata": {
    "colab": {
     "base_uri": "https://localhost:8080/"
    },
    "executionInfo": {
     "elapsed": 25883,
     "status": "ok",
     "timestamp": 1625548524345,
     "user": {
      "displayName": "Danusorn Sitdhirasdr",
      "photoUrl": "",
      "userId": "00479571870945710380"
     },
     "user_tz": -420
    },
    "id": "IRLShcFwPTVd",
    "outputId": "92b1c1ef-a39d-401e-f714-b6eec119bec0"
   },
   "outputs": [],
   "source": [
    "from google.colab import drive\n",
    "drive.mount('/content/dirve')\n",
    "\n",
    "# Import other libraries required.\n",
    "!git clone 'http://github.com/Nak007/RandomSearch.git'"
   ]
  },
  {
   "cell_type": "code",
   "execution_count": 1,
   "metadata": {
    "cellView": "form",
    "id": "7wlvQW5llskV"
   },
   "outputs": [],
   "source": [
    "import pandas as pd, numpy as np, sys\n",
    "import matplotlib.pyplot as plt\n",
    "pd.options.display.float_format = '{:,.4f}'.format\n",
    "\n",
    "# scikit-learn library\n",
    "from sklearn.ensemble import RandomForestClassifier\n",
    "from sklearn.model_selection import train_test_split as tts\n",
    "from sklearn.datasets import make_classification\n",
    "\n",
    "try: sys.path.append('/content/RandomSearch')\n",
    "except: pass\n",
    "from RandomSearch import *\n",
    "from Calibration import get_classweights"
   ]
  },
  {
   "cell_type": "markdown",
   "metadata": {
    "id": "85nNZqYnhmhp"
   },
   "source": [
    "Generate a random n-class classification problem. [Reference](https://scikit-learn.org/stable/modules/generated/sklearn.datasets.make_classification.html)"
   ]
  },
  {
   "cell_type": "code",
   "execution_count": 2,
   "metadata": {
    "executionInfo": {
     "elapsed": 301,
     "status": "ok",
     "timestamp": 1625548542284,
     "user": {
      "displayName": "Danusorn Sitdhirasdr",
      "photoUrl": "",
      "userId": "00479571870945710380"
     },
     "user_tz": -420
    },
    "id": "j017hDovd7WM"
   },
   "outputs": [],
   "source": [
    "X, y = make_classification(n_samples     = 10000, \n",
    "                           n_features    = 20, \n",
    "                           n_informative = 10, \n",
    "                           n_redundant   = 0, \n",
    "                           random_state  = 0, \n",
    "                           shuffle       = True, \n",
    "                           n_classes     = 2, \n",
    "                           weights       = [0.7,0.2])"
   ]
  },
  {
   "cell_type": "markdown",
   "metadata": {},
   "source": [
    "Transform `X` into pandas DataFrame."
   ]
  },
  {
   "cell_type": "code",
   "execution_count": 3,
   "metadata": {},
   "outputs": [],
   "source": [
    "X = pd.DataFrame(X, columns=[\"feature_\" + str(n).zfill(2) for n in range(1,X.shape[1]+1)]) "
   ]
  },
  {
   "cell_type": "markdown",
   "metadata": {
    "id": "LXL9lUApPTVk"
   },
   "source": [
    "Split data into **_train_**, and **_test_**"
   ]
  },
  {
   "cell_type": "code",
   "execution_count": 4,
   "metadata": {
    "executionInfo": {
     "elapsed": 1402,
     "status": "ok",
     "timestamp": 1614135192095,
     "user": {
      "displayName": "Danusorn Sitdhirasdr",
      "photoUrl": "",
      "userId": "00479571870945710380"
     },
     "user_tz": -420
    },
    "id": "YGsdoNNxYO0k"
   },
   "outputs": [],
   "source": [
    "X_train, X_test, y_train, y_test = tts(X, y, test_size=0.3, shuffle=True, random_state=0)"
   ]
  },
  {
   "cell_type": "markdown",
   "metadata": {},
   "source": [
    "Create hyper-parameter distribution to be randomized."
   ]
  },
  {
   "cell_type": "code",
   "execution_count": 5,
   "metadata": {},
   "outputs": [],
   "source": [
    "n_samples, n_features  = X.shape\n",
    "param_grids0 = {'max_depth'    : np.arange(10, 1 + np.ceil(np.log2(n_samples))).astype(int),  \n",
    "                'class_weight' : get_classweights(y=y_train, num=10),\n",
    "                'max_features' : np.arange(np.ceil(max(np.log2(n_features), \n",
    "                                                      np.sqrt(n_features))), 15).astype(int), \n",
    "                'criterion'    : [\"gini\", \"entropy\"]}"
   ]
  },
  {
   "cell_type": "markdown",
   "metadata": {},
   "source": [
    "Fit **`Modified_RandomizedSearch`**."
   ]
  },
  {
   "cell_type": "code",
   "execution_count": 7,
   "metadata": {},
   "outputs": [
    {
     "data": {
      "text/plain": [
       "<RandomSearch.Modified_RandomizedSearch at 0x7f7f2e7e7940>"
      ]
     },
     "execution_count": 7,
     "metadata": {},
     "output_type": "execute_result"
    }
   ],
   "source": [
    "RandParams0 = Modified_RandomizedSearch(RandomForestClassifier(n_estimators=300), \n",
    "                                        param_grids0, n_iter=200, random_state=0, \n",
    "                                        n_jobs=-1)\n",
    "RandParams0.fit(X_train, y_train, [(X_test,y_test)])"
   ]
  },
  {
   "cell_type": "markdown",
   "metadata": {},
   "source": [
    "**`results`** (attribute) is a dict with keys as column headers and values as columns, that can be imported into a pandas DataFrame. The order of the results corresponds to that in **`params`** (attribute), which is a list of (randomized) parameter settings dicts for all the parameter candidates."
   ]
  },
  {
   "cell_type": "code",
   "execution_count": 8,
   "metadata": {},
   "outputs": [
    {
     "data": {
      "text/html": [
       "<div>\n",
       "<style scoped>\n",
       "    .dataframe tbody tr th:only-of-type {\n",
       "        vertical-align: middle;\n",
       "    }\n",
       "\n",
       "    .dataframe tbody tr th {\n",
       "        vertical-align: top;\n",
       "    }\n",
       "\n",
       "    .dataframe thead th {\n",
       "        text-align: right;\n",
       "    }\n",
       "</style>\n",
       "<table border=\"1\" class=\"dataframe\">\n",
       "  <thead>\n",
       "    <tr style=\"text-align: right;\">\n",
       "      <th></th>\n",
       "      <th>train_f1_score</th>\n",
       "      <th>train_auc</th>\n",
       "      <th>train_accuracy</th>\n",
       "      <th>test0_f1_score</th>\n",
       "      <th>test0_auc</th>\n",
       "      <th>test0_accuracy</th>\n",
       "    </tr>\n",
       "  </thead>\n",
       "  <tbody>\n",
       "    <tr>\n",
       "      <th>0</th>\n",
       "      <td>1.0000</td>\n",
       "      <td>1.0000</td>\n",
       "      <td>1.0000</td>\n",
       "      <td>0.8801</td>\n",
       "      <td>0.9809</td>\n",
       "      <td>0.9437</td>\n",
       "    </tr>\n",
       "    <tr>\n",
       "      <th>1</th>\n",
       "      <td>0.9952</td>\n",
       "      <td>0.9999</td>\n",
       "      <td>0.9976</td>\n",
       "      <td>0.8890</td>\n",
       "      <td>0.9780</td>\n",
       "      <td>0.9463</td>\n",
       "    </tr>\n",
       "    <tr>\n",
       "      <th>2</th>\n",
       "      <td>1.0000</td>\n",
       "      <td>1.0000</td>\n",
       "      <td>1.0000</td>\n",
       "      <td>0.8878</td>\n",
       "      <td>0.9810</td>\n",
       "      <td>0.9470</td>\n",
       "    </tr>\n",
       "    <tr>\n",
       "      <th>3</th>\n",
       "      <td>0.9881</td>\n",
       "      <td>0.9998</td>\n",
       "      <td>0.9940</td>\n",
       "      <td>0.8841</td>\n",
       "      <td>0.9781</td>\n",
       "      <td>0.9443</td>\n",
       "    </tr>\n",
       "    <tr>\n",
       "      <th>4</th>\n",
       "      <td>0.9989</td>\n",
       "      <td>1.0000</td>\n",
       "      <td>0.9994</td>\n",
       "      <td>0.8767</td>\n",
       "      <td>0.9791</td>\n",
       "      <td>0.9417</td>\n",
       "    </tr>\n",
       "  </tbody>\n",
       "</table>\n",
       "</div>"
      ],
      "text/plain": [
       "   train_f1_score  train_auc  train_accuracy  test0_f1_score  test0_auc  \\\n",
       "0          1.0000     1.0000          1.0000          0.8801     0.9809   \n",
       "1          0.9952     0.9999          0.9976          0.8890     0.9780   \n",
       "2          1.0000     1.0000          1.0000          0.8878     0.9810   \n",
       "3          0.9881     0.9998          0.9940          0.8841     0.9781   \n",
       "4          0.9989     1.0000          0.9994          0.8767     0.9791   \n",
       "\n",
       "   test0_accuracy  \n",
       "0          0.9437  \n",
       "1          0.9463  \n",
       "2          0.9470  \n",
       "3          0.9443  \n",
       "4          0.9417  "
      ]
     },
     "execution_count": 8,
     "metadata": {},
     "output_type": "execute_result"
    }
   ],
   "source": [
    "pd.DataFrame(RandParams0.results).head()"
   ]
  },
  {
   "cell_type": "markdown",
   "metadata": {},
   "source": [
    "In this example, we are interested in observing the consistency of the model between train and test set. Thus we are using **`find_delta`** to determine the difference of all evaluation metrics."
   ]
  },
  {
   "cell_type": "code",
   "execution_count": 26,
   "metadata": {},
   "outputs": [
    {
     "data": {
      "text/html": [
       "<div>\n",
       "<style scoped>\n",
       "    .dataframe tbody tr th:only-of-type {\n",
       "        vertical-align: middle;\n",
       "    }\n",
       "\n",
       "    .dataframe tbody tr th {\n",
       "        vertical-align: top;\n",
       "    }\n",
       "\n",
       "    .dataframe thead th {\n",
       "        text-align: right;\n",
       "    }\n",
       "</style>\n",
       "<table border=\"1\" class=\"dataframe\">\n",
       "  <thead>\n",
       "    <tr style=\"text-align: right;\">\n",
       "      <th></th>\n",
       "      <th>train_f1_score</th>\n",
       "      <th>train_auc</th>\n",
       "      <th>train_accuracy</th>\n",
       "      <th>diff0_f1_score</th>\n",
       "      <th>diff0_auc</th>\n",
       "      <th>diff0_accuracy</th>\n",
       "    </tr>\n",
       "  </thead>\n",
       "  <tbody>\n",
       "    <tr>\n",
       "      <th>0</th>\n",
       "      <td>1.0000</td>\n",
       "      <td>1.0000</td>\n",
       "      <td>1.0000</td>\n",
       "      <td>0.1199</td>\n",
       "      <td>0.0191</td>\n",
       "      <td>0.0563</td>\n",
       "    </tr>\n",
       "    <tr>\n",
       "      <th>1</th>\n",
       "      <td>0.9952</td>\n",
       "      <td>0.9999</td>\n",
       "      <td>0.9976</td>\n",
       "      <td>0.1062</td>\n",
       "      <td>0.0220</td>\n",
       "      <td>0.0512</td>\n",
       "    </tr>\n",
       "    <tr>\n",
       "      <th>2</th>\n",
       "      <td>1.0000</td>\n",
       "      <td>1.0000</td>\n",
       "      <td>1.0000</td>\n",
       "      <td>0.1122</td>\n",
       "      <td>0.0190</td>\n",
       "      <td>0.0530</td>\n",
       "    </tr>\n",
       "    <tr>\n",
       "      <th>3</th>\n",
       "      <td>0.9881</td>\n",
       "      <td>0.9998</td>\n",
       "      <td>0.9940</td>\n",
       "      <td>0.1040</td>\n",
       "      <td>0.0217</td>\n",
       "      <td>0.0497</td>\n",
       "    </tr>\n",
       "    <tr>\n",
       "      <th>4</th>\n",
       "      <td>0.9989</td>\n",
       "      <td>1.0000</td>\n",
       "      <td>0.9994</td>\n",
       "      <td>0.1222</td>\n",
       "      <td>0.0209</td>\n",
       "      <td>0.0578</td>\n",
       "    </tr>\n",
       "  </tbody>\n",
       "</table>\n",
       "</div>"
      ],
      "text/plain": [
       "   train_f1_score  train_auc  train_accuracy  diff0_f1_score  diff0_auc  \\\n",
       "0          1.0000     1.0000          1.0000          0.1199     0.0191   \n",
       "1          0.9952     0.9999          0.9976          0.1062     0.0220   \n",
       "2          1.0000     1.0000          1.0000          0.1122     0.0190   \n",
       "3          0.9881     0.9998          0.9940          0.1040     0.0217   \n",
       "4          0.9989     1.0000          0.9994          0.1222     0.0209   \n",
       "\n",
       "   diff0_accuracy  \n",
       "0          0.0563  \n",
       "1          0.0512  \n",
       "2          0.0530  \n",
       "3          0.0497  \n",
       "4          0.0578  "
      ]
     },
     "execution_count": 26,
     "metadata": {},
     "output_type": "execute_result"
    }
   ],
   "source": [
    "results0 = pd.DataFrame(find_delta(RandParams0))\n",
    "results0.head()"
   ]
  },
  {
   "cell_type": "markdown",
   "metadata": {},
   "source": [
    "Set the target by finding the $k$ top performers in respective columns."
   ]
  },
  {
   "cell_type": "code",
   "execution_count": 27,
   "metadata": {},
   "outputs": [],
   "source": [
    "def find_target(X, alpha=20):\n",
    "    target = []\n",
    "    for column in list(X):\n",
    "        x = X[column].values\n",
    "        if column.find(\"diff\")>-1: \n",
    "            target += [x<=np.percentile(x, alpha)]\n",
    "        else: target += [x>=np.percentile(x, 100-alpha)]\n",
    "    return np.vstack(target).T"
   ]
  },
  {
   "cell_type": "code",
   "execution_count": 84,
   "metadata": {},
   "outputs": [
    {
     "name": "stdout",
     "output_type": "stream",
     "text": [
      "3 target(s) found.\n"
     ]
    }
   ],
   "source": [
    "target0 = find_target(results0, 21).sum(axis=1)==6\n",
    "print(\"{:,d} target(s) found.\".format(target0.sum()))"
   ]
  },
  {
   "cell_type": "markdown",
   "metadata": {},
   "source": [
    "Use **`ParameterVisualizer`** to visualize results in a lower dimensional space."
   ]
  },
  {
   "cell_type": "code",
   "execution_count": 29,
   "metadata": {},
   "outputs": [],
   "source": [
    "visualize = ParameterVisualizer(mineigval=0.8, option=\"eigval\").fit(results0)"
   ]
  },
  {
   "cell_type": "code",
   "execution_count": 32,
   "metadata": {},
   "outputs": [
    {
     "data": {
      "image/png": "[encoded data removed]",
      "text/plain": [
       "<Figure size 648x360 with 1 Axes>"
      ]
     },
     "metadata": {
      "needs_background": "light"
     },
     "output_type": "display_data"
    }
   ],
   "source": [
    "ax = visualize.plot(target=target0, pc_pair=(0,1))"
   ]
  },
  {
   "cell_type": "markdown",
   "metadata": {},
   "source": [
    "Create parameter grids from selected sets of parameters."
   ]
  },
  {
   "cell_type": "code",
   "execution_count": 33,
   "metadata": {},
   "outputs": [
    {
     "data": {
      "text/plain": [
       "{'max_features': [10, 12, 14],\n",
       " 'max_depth': [13],\n",
       " 'criterion': ['entropy'],\n",
       " 'class_weight': [{0: 1.1889, 1: 2.6341}, {0: 1.1133, 1: 1.9805}]}"
      ]
     },
     "execution_count": 33,
     "metadata": {},
     "output_type": "execute_result"
    }
   ],
   "source": [
    "visualize.get_param_grids(np.array(RandParams0.params)[target0])"
   ]
  },
  {
   "cell_type": "markdown",
   "metadata": {},
   "source": [
    "We can narrow down the search by selecting those parameters that satisfy the defined criteria."
   ]
  },
  {
   "cell_type": "code",
   "execution_count": 48,
   "metadata": {},
   "outputs": [],
   "source": [
    "param_grids1 = {'max_depth'    : [13],  \n",
    "                'class_weight' : get_classweights([1.1133, 1.9805], \n",
    "                                                  [1.1889, 2.6341], num=10),\n",
    "                'max_features' : np.arange(10, 15).astype(int), \n",
    "                'criterion'    : [\"entropy\"]}"
   ]
  },
  {
   "cell_type": "code",
   "execution_count": 49,
   "metadata": {},
   "outputs": [
    {
     "name": "stderr",
     "output_type": "stream",
     "text": [
      "/opt/anaconda3/lib/python3.8/site-packages/sklearn/model_selection/_search.py:285: UserWarning: The total space of parameters 50 is smaller than n_iter=200. Running 50 iterations. For exhaustive searches, use GridSearchCV.\n",
      "  warnings.warn(\n"
     ]
    },
    {
     "data": {
      "text/plain": [
       "<RandomSearch.Modified_RandomizedSearch at 0x7f7e90a10220>"
      ]
     },
     "execution_count": 49,
     "metadata": {},
     "output_type": "execute_result"
    }
   ],
   "source": [
    "RandParams1 = Modified_RandomizedSearch(RandomForestClassifier(n_estimators=300), \n",
    "                                        param_grids1, n_iter=200, random_state=0, \n",
    "                                        n_jobs=-1)\n",
    "RandParams1.fit(X_train, y_train, [(X_test,y_test)])"
   ]
  },
  {
   "cell_type": "code",
   "execution_count": 50,
   "metadata": {},
   "outputs": [
    {
     "data": {
      "text/html": [
       "<div>\n",
       "<style scoped>\n",
       "    .dataframe tbody tr th:only-of-type {\n",
       "        vertical-align: middle;\n",
       "    }\n",
       "\n",
       "    .dataframe tbody tr th {\n",
       "        vertical-align: top;\n",
       "    }\n",
       "\n",
       "    .dataframe thead th {\n",
       "        text-align: right;\n",
       "    }\n",
       "</style>\n",
       "<table border=\"1\" class=\"dataframe\">\n",
       "  <thead>\n",
       "    <tr style=\"text-align: right;\">\n",
       "      <th></th>\n",
       "      <th>train_f1_score</th>\n",
       "      <th>train_auc</th>\n",
       "      <th>train_accuracy</th>\n",
       "      <th>diff0_f1_score</th>\n",
       "      <th>diff0_auc</th>\n",
       "      <th>diff0_accuracy</th>\n",
       "    </tr>\n",
       "  </thead>\n",
       "  <tbody>\n",
       "    <tr>\n",
       "      <th>0</th>\n",
       "      <td>0.9997</td>\n",
       "      <td>1.0000</td>\n",
       "      <td>0.9999</td>\n",
       "      <td>0.1102</td>\n",
       "      <td>0.0187</td>\n",
       "      <td>0.0522</td>\n",
       "    </tr>\n",
       "    <tr>\n",
       "      <th>1</th>\n",
       "      <td>0.9997</td>\n",
       "      <td>1.0000</td>\n",
       "      <td>0.9999</td>\n",
       "      <td>0.1115</td>\n",
       "      <td>0.0190</td>\n",
       "      <td>0.0525</td>\n",
       "    </tr>\n",
       "    <tr>\n",
       "      <th>2</th>\n",
       "      <td>0.9997</td>\n",
       "      <td>1.0000</td>\n",
       "      <td>0.9999</td>\n",
       "      <td>0.1121</td>\n",
       "      <td>0.0192</td>\n",
       "      <td>0.0532</td>\n",
       "    </tr>\n",
       "    <tr>\n",
       "      <th>3</th>\n",
       "      <td>1.0000</td>\n",
       "      <td>1.0000</td>\n",
       "      <td>1.0000</td>\n",
       "      <td>0.1061</td>\n",
       "      <td>0.0185</td>\n",
       "      <td>0.0503</td>\n",
       "    </tr>\n",
       "    <tr>\n",
       "      <th>4</th>\n",
       "      <td>1.0000</td>\n",
       "      <td>1.0000</td>\n",
       "      <td>1.0000</td>\n",
       "      <td>0.1088</td>\n",
       "      <td>0.0190</td>\n",
       "      <td>0.0513</td>\n",
       "    </tr>\n",
       "  </tbody>\n",
       "</table>\n",
       "</div>"
      ],
      "text/plain": [
       "   train_f1_score  train_auc  train_accuracy  diff0_f1_score  diff0_auc  \\\n",
       "0          0.9997     1.0000          0.9999          0.1102     0.0187   \n",
       "1          0.9997     1.0000          0.9999          0.1115     0.0190   \n",
       "2          0.9997     1.0000          0.9999          0.1121     0.0192   \n",
       "3          1.0000     1.0000          1.0000          0.1061     0.0185   \n",
       "4          1.0000     1.0000          1.0000          0.1088     0.0190   \n",
       "\n",
       "   diff0_accuracy  \n",
       "0          0.0522  \n",
       "1          0.0525  \n",
       "2          0.0532  \n",
       "3          0.0503  \n",
       "4          0.0513  "
      ]
     },
     "execution_count": 50,
     "metadata": {},
     "output_type": "execute_result"
    }
   ],
   "source": [
    "results1 = pd.DataFrame(find_delta(RandParams1))\n",
    "results1.head()"
   ]
  },
  {
   "cell_type": "code",
   "execution_count": 74,
   "metadata": {},
   "outputs": [
    {
     "name": "stdout",
     "output_type": "stream",
     "text": [
      "1 target(s) found.\n"
     ]
    }
   ],
   "source": [
    "target1 = find_target(results1).sum(axis=1)==6\n",
    "print(\"{:,d} target(s) found.\".format(target1.sum()))"
   ]
  },
  {
   "cell_type": "code",
   "execution_count": 75,
   "metadata": {},
   "outputs": [],
   "source": [
    "visualize = ParameterVisualizer(mineigval=0.8, option=\"eigval\").fit(results1)"
   ]
  },
  {
   "cell_type": "code",
   "execution_count": 83,
   "metadata": {},
   "outputs": [
    {
     "data": {
      "image/png": "[encoded data removed]",
      "text/plain": [
       "<Figure size 648x360 with 1 Axes>"
      ]
     },
     "metadata": {
      "needs_background": "light"
     },
     "output_type": "display_data"
    }
   ],
   "source": [
    "ax = visualize.plot(target=target1, pc_pair=(0,1))"
   ]
  },
  {
   "cell_type": "code",
   "execution_count": 77,
   "metadata": {},
   "outputs": [
    {
     "data": {
      "text/plain": [
       "{'max_features': [13],\n",
       " 'max_depth': [13],\n",
       " 'criterion': ['entropy'],\n",
       " 'class_weight': [{0: 1.1133, 1: 1.9805}]}"
      ]
     },
     "execution_count": 77,
     "metadata": {},
     "output_type": "execute_result"
    }
   ],
   "source": [
    "visualize.get_param_grids(np.array(RandParams1.params)[target1])"
   ]
  },
  {
   "cell_type": "code",
   "execution_count": 80,
   "metadata": {},
   "outputs": [
    {
     "data": {
      "text/html": [
       "<div>\n",
       "<style scoped>\n",
       "    .dataframe tbody tr th:only-of-type {\n",
       "        vertical-align: middle;\n",
       "    }\n",
       "\n",
       "    .dataframe tbody tr th {\n",
       "        vertical-align: top;\n",
       "    }\n",
       "\n",
       "    .dataframe thead th {\n",
       "        text-align: right;\n",
       "    }\n",
       "</style>\n",
       "<table border=\"1\" class=\"dataframe\">\n",
       "  <thead>\n",
       "    <tr style=\"text-align: right;\">\n",
       "      <th></th>\n",
       "      <th>train_f1_score</th>\n",
       "      <th>train_auc</th>\n",
       "      <th>train_accuracy</th>\n",
       "      <th>test0_f1_score</th>\n",
       "      <th>test0_auc</th>\n",
       "      <th>test0_accuracy</th>\n",
       "    </tr>\n",
       "  </thead>\n",
       "  <tbody>\n",
       "    <tr>\n",
       "      <th>3</th>\n",
       "      <td>1.0000</td>\n",
       "      <td>1.0000</td>\n",
       "      <td>1.0000</td>\n",
       "      <td>0.8939</td>\n",
       "      <td>0.9815</td>\n",
       "      <td>0.9497</td>\n",
       "    </tr>\n",
       "  </tbody>\n",
       "</table>\n",
       "</div>"
      ],
      "text/plain": [
       "   train_f1_score  train_auc  train_accuracy  test0_f1_score  test0_auc  \\\n",
       "3          1.0000     1.0000          1.0000          0.8939     0.9815   \n",
       "\n",
       "   test0_accuracy  \n",
       "3          0.9497  "
      ]
     },
     "execution_count": 80,
     "metadata": {},
     "output_type": "execute_result"
    }
   ],
   "source": [
    "pd.DataFrame(RandParams1.results)[target1]"
   ]
  },
  {
   "cell_type": "code",
   "execution_count": null,
   "metadata": {},
   "outputs": [],
   "source": []
  }
 ],
 "metadata": {
  "colab": {
   "collapsed_sections": [],
   "name": "model_hcode_r1.ipynb",
   "provenance": []
  },
  "kernelspec": {
   "display_name": "Python 3",
   "language": "python",
   "name": "python3"
  },
  "language_info": {
   "codemirror_mode": {
    "name": "ipython",
    "version": 3
   },
   "file_extension": ".py",
   "mimetype": "text/x-python",
   "name": "python",
   "nbconvert_exporter": "python",
   "pygments_lexer": "ipython3",
   "version": "3.8.8"
  }
 },
 "nbformat": 4,
 "nbformat_minor": 1
}
